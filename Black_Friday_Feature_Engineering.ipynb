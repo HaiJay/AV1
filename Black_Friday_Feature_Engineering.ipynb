{
 "cells": [
  {
   "cell_type": "code",
   "execution_count": 2,
   "metadata": {},
   "outputs": [],
   "source": [
    "import numpy as np\n",
    "import pandas as pd\n",
    "import matplotlib.pyplot as plt\n",
    "import seaborn as sns\n",
    "plt.style.use('fivethirtyeight')\n",
    "\n",
    "plt.rcParams['figure.figsize'] = 15,12\n",
    "\n",
    "# Print all rows and columns\n",
    "pd.set_option('display.max_columns', None)\n",
    "pd.set_option('display.max_rows', None)"
   ]
  },
  {
   "cell_type": "code",
   "execution_count": 3,
   "metadata": {},
   "outputs": [],
   "source": [
    "df_train = pd.read_csv(r'C:\\Users\\Chandan\\Downloads\\train_oSwQCTC\\train.csv')"
   ]
  },
  {
   "cell_type": "code",
   "execution_count": 4,
   "metadata": {},
   "outputs": [
    {
     "data": {
      "text/html": [
       "<div>\n",
       "<style scoped>\n",
       "    .dataframe tbody tr th:only-of-type {\n",
       "        vertical-align: middle;\n",
       "    }\n",
       "\n",
       "    .dataframe tbody tr th {\n",
       "        vertical-align: top;\n",
       "    }\n",
       "\n",
       "    .dataframe thead th {\n",
       "        text-align: right;\n",
       "    }\n",
       "</style>\n",
       "<table border=\"1\" class=\"dataframe\">\n",
       "  <thead>\n",
       "    <tr style=\"text-align: right;\">\n",
       "      <th></th>\n",
       "      <th>User_ID</th>\n",
       "      <th>Product_ID</th>\n",
       "      <th>Gender</th>\n",
       "      <th>Age</th>\n",
       "      <th>Occupation</th>\n",
       "      <th>City_Category</th>\n",
       "      <th>Stay_In_Current_City_Years</th>\n",
       "      <th>Marital_Status</th>\n",
       "      <th>Product_Category_1</th>\n",
       "      <th>Product_Category_2</th>\n",
       "      <th>Product_Category_3</th>\n",
       "      <th>Purchase</th>\n",
       "    </tr>\n",
       "  </thead>\n",
       "  <tbody>\n",
       "    <tr>\n",
       "      <th>361335</th>\n",
       "      <td>1001635</td>\n",
       "      <td>P00047242</td>\n",
       "      <td>M</td>\n",
       "      <td>26-35</td>\n",
       "      <td>0</td>\n",
       "      <td>B</td>\n",
       "      <td>1</td>\n",
       "      <td>0</td>\n",
       "      <td>1</td>\n",
       "      <td>5.0</td>\n",
       "      <td>NaN</td>\n",
       "      <td>8322</td>\n",
       "    </tr>\n",
       "    <tr>\n",
       "      <th>488518</th>\n",
       "      <td>1003320</td>\n",
       "      <td>P00326842</td>\n",
       "      <td>M</td>\n",
       "      <td>26-35</td>\n",
       "      <td>1</td>\n",
       "      <td>B</td>\n",
       "      <td>1</td>\n",
       "      <td>1</td>\n",
       "      <td>5</td>\n",
       "      <td>8.0</td>\n",
       "      <td>NaN</td>\n",
       "      <td>1776</td>\n",
       "    </tr>\n",
       "    <tr>\n",
       "      <th>459039</th>\n",
       "      <td>1004626</td>\n",
       "      <td>P00139942</td>\n",
       "      <td>M</td>\n",
       "      <td>26-35</td>\n",
       "      <td>14</td>\n",
       "      <td>B</td>\n",
       "      <td>4+</td>\n",
       "      <td>0</td>\n",
       "      <td>5</td>\n",
       "      <td>NaN</td>\n",
       "      <td>NaN</td>\n",
       "      <td>3450</td>\n",
       "    </tr>\n",
       "    <tr>\n",
       "      <th>1022</th>\n",
       "      <td>1000173</td>\n",
       "      <td>P00117342</td>\n",
       "      <td>M</td>\n",
       "      <td>26-35</td>\n",
       "      <td>0</td>\n",
       "      <td>B</td>\n",
       "      <td>1</td>\n",
       "      <td>1</td>\n",
       "      <td>1</td>\n",
       "      <td>8.0</td>\n",
       "      <td>13.0</td>\n",
       "      <td>11693</td>\n",
       "    </tr>\n",
       "    <tr>\n",
       "      <th>536730</th>\n",
       "      <td>1004601</td>\n",
       "      <td>P00184942</td>\n",
       "      <td>M</td>\n",
       "      <td>36-45</td>\n",
       "      <td>14</td>\n",
       "      <td>C</td>\n",
       "      <td>0</td>\n",
       "      <td>0</td>\n",
       "      <td>1</td>\n",
       "      <td>8.0</td>\n",
       "      <td>17.0</td>\n",
       "      <td>19438</td>\n",
       "    </tr>\n",
       "  </tbody>\n",
       "</table>\n",
       "</div>"
      ],
      "text/plain": [
       "        User_ID Product_ID Gender    Age  Occupation City_Category  \\\n",
       "361335  1001635  P00047242      M  26-35           0             B   \n",
       "488518  1003320  P00326842      M  26-35           1             B   \n",
       "459039  1004626  P00139942      M  26-35          14             B   \n",
       "1022    1000173  P00117342      M  26-35           0             B   \n",
       "536730  1004601  P00184942      M  36-45          14             C   \n",
       "\n",
       "       Stay_In_Current_City_Years  Marital_Status  Product_Category_1  \\\n",
       "361335                          1               0                   1   \n",
       "488518                          1               1                   5   \n",
       "459039                         4+               0                   5   \n",
       "1022                            1               1                   1   \n",
       "536730                          0               0                   1   \n",
       "\n",
       "        Product_Category_2  Product_Category_3  Purchase  \n",
       "361335                 5.0                 NaN      8322  \n",
       "488518                 8.0                 NaN      1776  \n",
       "459039                 NaN                 NaN      3450  \n",
       "1022                   8.0                13.0     11693  \n",
       "536730                 8.0                17.0     19438  "
      ]
     },
     "execution_count": 4,
     "metadata": {},
     "output_type": "execute_result"
    }
   ],
   "source": [
    "df_train.sample(5)"
   ]
  },
  {
   "cell_type": "code",
   "execution_count": 5,
   "metadata": {},
   "outputs": [],
   "source": [
    "from scipy.stats import boxcox"
   ]
  },
  {
   "cell_type": "markdown",
   "metadata": {},
   "source": [
    "The boxcox() SciPy function implements the Box-Cox method. It takes an argument, called lambda, that controls the type of transform to perform.\n",
    "\n",
    "Below are some common values for lambda:\n",
    "\n",
    "lambda = -1. is a reciprocal transform.\n",
    "x -> 1/x\n",
    "\n",
    "lambda = -0.5 is a reciprocal square root transform.\n",
    "x -> 1/sqrt(x)\n",
    "\n",
    "lambda = 0.0 is a log transform.\n",
    "x -> log(x)\n",
    "\n",
    "lambda = 0.5 is a square root transform.\n",
    "x -> sqrt(x)\n",
    "\n",
    "lambda = 1.0 is no transform.\n",
    "x -> x"
   ]
  },
  {
   "cell_type": "code",
   "execution_count": 6,
   "metadata": {},
   "outputs": [
    {
     "data": {
      "text/plain": [
       "<matplotlib.axes._subplots.AxesSubplot at 0x1905330b160>"
      ]
     },
     "execution_count": 6,
     "metadata": {},
     "output_type": "execute_result"
    },
    {
     "data": {
      "image/png": "[encoded data removed]",
      "text/plain": [
       "<Figure size 432x288 with 1 Axes>"
      ]
     },
     "metadata": {
      "needs_background": "light"
     },
     "output_type": "display_data"
    }
   ],
   "source": [
    "#histogram\n",
    "sns.distplot(df_train['Purchase'])"
   ]
  },
  {
   "cell_type": "code",
   "execution_count": 7,
   "metadata": {},
   "outputs": [],
   "source": [
    "# power transform\n",
    "data = boxcox(df_train['Purchase'],0.5 )"
   ]
  },
  {
   "cell_type": "code",
   "execution_count": 8,
   "metadata": {},
   "outputs": [
    {
     "data": {
      "text/plain": [
       "<matplotlib.axes._subplots.AxesSubplot at 0x19053450b00>"
      ]
     },
     "execution_count": 8,
     "metadata": {},
     "output_type": "execute_result"
    },
    {
     "data": {
      "image/png": "[encoded data removed]",
      "text/plain": [
       "<Figure size 432x288 with 1 Axes>"
      ]
     },
     "metadata": {
      "needs_background": "light"
     },
     "output_type": "display_data"
    }
   ],
   "source": [
    "#histogram\n",
    "sns.distplot(data)"
   ]
  },
  {
   "cell_type": "code",
   "execution_count": 9,
   "metadata": {},
   "outputs": [
    {
     "name": "stdout",
     "output_type": "stream",
     "text": [
      "Skewness: -0.139588\n",
      "Kurtosis: -0.103687\n"
     ]
    }
   ],
   "source": [
    "#skewness and kurtosis\n",
    "print(\"Skewness: %f\" % pd.DataFrame(data).skew())\n",
    "print(\"Kurtosis: %f\" % pd.DataFrame(data).kurt())"
   ]
  },
  {
   "cell_type": "markdown",
   "metadata": {},
   "source": [
    "There are stills lots of bumps in the distribution plot, let us see, if we can reduce its effect by using diffrent alogrithms for best predictions"
   ]
  },
  {
   "cell_type": "markdown",
   "metadata": {},
   "source": [
    "### Product_Category_1 (Vs) Gender "
   ]
  },
  {
   "cell_type": "markdown",
   "metadata": {},
   "source": [
    "#### Chi-Squred Test"
   ]
  },
  {
   "cell_type": "markdown",
   "metadata": {},
   "source": [
    "If we want to determine the statistical significance of two independent categorical groups of data, this is where the Chi-squared test for independence is useful."
   ]
  },
  {
   "cell_type": "code",
   "execution_count": 10,
   "metadata": {},
   "outputs": [],
   "source": [
    "contingency_table = pd.crosstab(df_train['Gender'],df_train['Product_Category_1'],margins = True)"
   ]
  },
  {
   "cell_type": "code",
   "execution_count": 11,
   "metadata": {},
   "outputs": [
    {
     "data": {
      "text/html": [
       "<div>\n",
       "<style scoped>\n",
       "    .dataframe tbody tr th:only-of-type {\n",
       "        vertical-align: middle;\n",
       "    }\n",
       "\n",
       "    .dataframe tbody tr th {\n",
       "        vertical-align: top;\n",
       "    }\n",
       "\n",
       "    .dataframe thead th {\n",
       "        text-align: right;\n",
       "    }\n",
       "</style>\n",
       "<table border=\"1\" class=\"dataframe\">\n",
       "  <thead>\n",
       "    <tr style=\"text-align: right;\">\n",
       "      <th>Product_Category_1</th>\n",
       "      <th>1</th>\n",
       "      <th>2</th>\n",
       "      <th>3</th>\n",
       "      <th>4</th>\n",
       "      <th>5</th>\n",
       "      <th>6</th>\n",
       "      <th>7</th>\n",
       "      <th>8</th>\n",
       "      <th>9</th>\n",
       "      <th>10</th>\n",
       "      <th>11</th>\n",
       "      <th>12</th>\n",
       "      <th>13</th>\n",
       "      <th>14</th>\n",
       "      <th>15</th>\n",
       "      <th>16</th>\n",
       "      <th>17</th>\n",
       "      <th>18</th>\n",
       "      <th>19</th>\n",
       "      <th>20</th>\n",
       "      <th>All</th>\n",
       "    </tr>\n",
       "    <tr>\n",
       "      <th>Gender</th>\n",
       "      <th></th>\n",
       "      <th></th>\n",
       "      <th></th>\n",
       "      <th></th>\n",
       "      <th></th>\n",
       "      <th></th>\n",
       "      <th></th>\n",
       "      <th></th>\n",
       "      <th></th>\n",
       "      <th></th>\n",
       "      <th></th>\n",
       "      <th></th>\n",
       "      <th></th>\n",
       "      <th></th>\n",
       "      <th></th>\n",
       "      <th></th>\n",
       "      <th></th>\n",
       "      <th></th>\n",
       "      <th></th>\n",
       "      <th></th>\n",
       "      <th></th>\n",
       "    </tr>\n",
       "  </thead>\n",
       "  <tbody>\n",
       "    <tr>\n",
       "      <th>F</th>\n",
       "      <td>24831</td>\n",
       "      <td>5658</td>\n",
       "      <td>6006</td>\n",
       "      <td>3639</td>\n",
       "      <td>41961</td>\n",
       "      <td>4559</td>\n",
       "      <td>943</td>\n",
       "      <td>33558</td>\n",
       "      <td>70</td>\n",
       "      <td>1162</td>\n",
       "      <td>4739</td>\n",
       "      <td>1532</td>\n",
       "      <td>1462</td>\n",
       "      <td>623</td>\n",
       "      <td>1046</td>\n",
       "      <td>2402</td>\n",
       "      <td>62</td>\n",
       "      <td>382</td>\n",
       "      <td>451</td>\n",
       "      <td>723</td>\n",
       "      <td>135809</td>\n",
       "    </tr>\n",
       "    <tr>\n",
       "      <th>M</th>\n",
       "      <td>115547</td>\n",
       "      <td>18206</td>\n",
       "      <td>14207</td>\n",
       "      <td>8114</td>\n",
       "      <td>108972</td>\n",
       "      <td>15907</td>\n",
       "      <td>2778</td>\n",
       "      <td>80367</td>\n",
       "      <td>340</td>\n",
       "      <td>3963</td>\n",
       "      <td>19548</td>\n",
       "      <td>2415</td>\n",
       "      <td>4087</td>\n",
       "      <td>900</td>\n",
       "      <td>5244</td>\n",
       "      <td>7426</td>\n",
       "      <td>516</td>\n",
       "      <td>2743</td>\n",
       "      <td>1152</td>\n",
       "      <td>1827</td>\n",
       "      <td>414259</td>\n",
       "    </tr>\n",
       "    <tr>\n",
       "      <th>All</th>\n",
       "      <td>140378</td>\n",
       "      <td>23864</td>\n",
       "      <td>20213</td>\n",
       "      <td>11753</td>\n",
       "      <td>150933</td>\n",
       "      <td>20466</td>\n",
       "      <td>3721</td>\n",
       "      <td>113925</td>\n",
       "      <td>410</td>\n",
       "      <td>5125</td>\n",
       "      <td>24287</td>\n",
       "      <td>3947</td>\n",
       "      <td>5549</td>\n",
       "      <td>1523</td>\n",
       "      <td>6290</td>\n",
       "      <td>9828</td>\n",
       "      <td>578</td>\n",
       "      <td>3125</td>\n",
       "      <td>1603</td>\n",
       "      <td>2550</td>\n",
       "      <td>550068</td>\n",
       "    </tr>\n",
       "  </tbody>\n",
       "</table>\n",
       "</div>"
      ],
      "text/plain": [
       "Product_Category_1       1      2      3      4       5      6     7       8  \\\n",
       "Gender                                                                         \n",
       "F                    24831   5658   6006   3639   41961   4559   943   33558   \n",
       "M                   115547  18206  14207   8114  108972  15907  2778   80367   \n",
       "All                 140378  23864  20213  11753  150933  20466  3721  113925   \n",
       "\n",
       "Product_Category_1    9    10     11    12    13    14    15    16   17    18  \\\n",
       "Gender                                                                          \n",
       "F                    70  1162   4739  1532  1462   623  1046  2402   62   382   \n",
       "M                   340  3963  19548  2415  4087   900  5244  7426  516  2743   \n",
       "All                 410  5125  24287  3947  5549  1523  6290  9828  578  3125   \n",
       "\n",
       "Product_Category_1    19    20     All  \n",
       "Gender                                  \n",
       "F                    451   723  135809  \n",
       "M                   1152  1827  414259  \n",
       "All                 1603  2550  550068  "
      ]
     },
     "execution_count": 11,
     "metadata": {},
     "output_type": "execute_result"
    }
   ],
   "source": [
    "contingency_table"
   ]
  },
  {
   "cell_type": "code",
   "execution_count": 12,
   "metadata": {},
   "outputs": [
    {
     "data": {
      "text/plain": [
       "<matplotlib.axes._subplots.AxesSubplot at 0x1905358b4a8>"
      ]
     },
     "execution_count": 12,
     "metadata": {},
     "output_type": "execute_result"
    },
    {
     "data": {
      "image/png": "[encoded data removed]",
      "text/plain": [
       "<Figure size 864x576 with 1 Axes>"
      ]
     },
     "metadata": {
      "needs_background": "light"
     },
     "output_type": "display_data"
    }
   ],
   "source": [
    "plt.rcParams['figure.figsize'] = (12, 8)\n",
    "\n",
    "contingency_table.iloc[0:2,0:20].plot(kind='bar', stacked=True)"
   ]
  },
  {
   "cell_type": "code",
   "execution_count": 13,
   "metadata": {},
   "outputs": [],
   "source": [
    "f_obs = np.array([contingency_table.iloc[0][0:20].values,\n",
    "                  contingency_table.iloc[1][0:20].values])"
   ]
  },
  {
   "cell_type": "code",
   "execution_count": 14,
   "metadata": {},
   "outputs": [
    {
     "data": {
      "text/plain": [
       "(8070.411022236562, 0.0, 19)"
      ]
     },
     "execution_count": 14,
     "metadata": {},
     "output_type": "execute_result"
    }
   ],
   "source": [
    "from scipy import stats\n",
    "\n",
    "stats.chi2_contingency(f_obs)[0:3]"
   ]
  },
  {
   "cell_type": "markdown",
   "metadata": {},
   "source": [
    "#### Conclusions\n",
    "\n",
    "With a p-value < 0.05 , we can reject the null hypothesis. There is definitely some sort of relationship between 'sex' and the 'Product_Category_1' column. We don't know what this relationship is, but we do know that these two variables are not independent of each other."
   ]
  },
  {
   "cell_type": "markdown",
   "metadata": {},
   "source": [
    "### Product_Category_1 (vs) Gender (vs) Purchase"
   ]
  },
  {
   "cell_type": "markdown",
   "metadata": {},
   "source": [
    "#### Chi-Sqaured Test"
   ]
  },
  {
   "cell_type": "code",
   "execution_count": 15,
   "metadata": {},
   "outputs": [],
   "source": [
    "contingency_table = pd.crosstab(df_train['Gender'],df_train['Product_Category_1'],df_train['Purchase'].values, aggfunc=\"mean\",margins = True)"
   ]
  },
  {
   "cell_type": "code",
   "execution_count": 16,
   "metadata": {},
   "outputs": [
    {
     "data": {
      "text/html": [
       "<div>\n",
       "<style scoped>\n",
       "    .dataframe tbody tr th:only-of-type {\n",
       "        vertical-align: middle;\n",
       "    }\n",
       "\n",
       "    .dataframe tbody tr th {\n",
       "        vertical-align: top;\n",
       "    }\n",
       "\n",
       "    .dataframe thead th {\n",
       "        text-align: right;\n",
       "    }\n",
       "</style>\n",
       "<table border=\"1\" class=\"dataframe\">\n",
       "  <thead>\n",
       "    <tr style=\"text-align: right;\">\n",
       "      <th>Product_Category_1</th>\n",
       "      <th>1</th>\n",
       "      <th>2</th>\n",
       "      <th>3</th>\n",
       "      <th>4</th>\n",
       "      <th>5</th>\n",
       "      <th>6</th>\n",
       "      <th>7</th>\n",
       "      <th>8</th>\n",
       "      <th>9</th>\n",
       "      <th>10</th>\n",
       "      <th>11</th>\n",
       "      <th>12</th>\n",
       "      <th>13</th>\n",
       "      <th>14</th>\n",
       "      <th>15</th>\n",
       "      <th>16</th>\n",
       "      <th>17</th>\n",
       "      <th>18</th>\n",
       "      <th>19</th>\n",
       "      <th>20</th>\n",
       "      <th>All</th>\n",
       "    </tr>\n",
       "    <tr>\n",
       "      <th>Gender</th>\n",
       "      <th></th>\n",
       "      <th></th>\n",
       "      <th></th>\n",
       "      <th></th>\n",
       "      <th></th>\n",
       "      <th></th>\n",
       "      <th></th>\n",
       "      <th></th>\n",
       "      <th></th>\n",
       "      <th></th>\n",
       "      <th></th>\n",
       "      <th></th>\n",
       "      <th></th>\n",
       "      <th></th>\n",
       "      <th></th>\n",
       "      <th></th>\n",
       "      <th></th>\n",
       "      <th></th>\n",
       "      <th></th>\n",
       "      <th></th>\n",
       "      <th></th>\n",
       "    </tr>\n",
       "  </thead>\n",
       "  <tbody>\n",
       "    <tr>\n",
       "      <th>F</th>\n",
       "      <td>13597.162619</td>\n",
       "      <td>11407.496819</td>\n",
       "      <td>10262.656677</td>\n",
       "      <td>2454.851882</td>\n",
       "      <td>6307.239532</td>\n",
       "      <td>15596.428164</td>\n",
       "      <td>16394.853659</td>\n",
       "      <td>7499.924787</td>\n",
       "      <td>15724.314286</td>\n",
       "      <td>19692.076592</td>\n",
       "      <td>4676.371808</td>\n",
       "      <td>1422.909269</td>\n",
       "      <td>733.846785</td>\n",
       "      <td>13747.362761</td>\n",
       "      <td>14695.326960</td>\n",
       "      <td>14681.491257</td>\n",
       "      <td>9846.403226</td>\n",
       "      <td>2848.607330</td>\n",
       "      <td>37.676275</td>\n",
       "      <td>371.564315</td>\n",
       "      <td>8734.565765</td>\n",
       "    </tr>\n",
       "    <tr>\n",
       "      <th>M</th>\n",
       "      <td>13608.164721</td>\n",
       "      <td>11203.590520</td>\n",
       "      <td>10026.550081</td>\n",
       "      <td>2273.512694</td>\n",
       "      <td>6214.230729</td>\n",
       "      <td>15907.851009</td>\n",
       "      <td>16355.789777</td>\n",
       "      <td>7498.554419</td>\n",
       "      <td>15498.888235</td>\n",
       "      <td>19670.731264</td>\n",
       "      <td>4687.425261</td>\n",
       "      <td>1305.154037</td>\n",
       "      <td>718.306092</td>\n",
       "      <td>12722.321111</td>\n",
       "      <td>14797.431350</td>\n",
       "      <td>14793.384056</td>\n",
       "      <td>10209.732558</td>\n",
       "      <td>2990.168793</td>\n",
       "      <td>36.793403</td>\n",
       "      <td>370.052545</td>\n",
       "      <td>9437.526040</td>\n",
       "    </tr>\n",
       "    <tr>\n",
       "      <th>All</th>\n",
       "      <td>13606.218596</td>\n",
       "      <td>11251.935384</td>\n",
       "      <td>10096.705734</td>\n",
       "      <td>2329.659491</td>\n",
       "      <td>6240.088178</td>\n",
       "      <td>15838.478550</td>\n",
       "      <td>16365.689600</td>\n",
       "      <td>7498.958078</td>\n",
       "      <td>15537.375610</td>\n",
       "      <td>19675.570927</td>\n",
       "      <td>4685.268456</td>\n",
       "      <td>1350.859894</td>\n",
       "      <td>722.400613</td>\n",
       "      <td>13141.625739</td>\n",
       "      <td>14780.451828</td>\n",
       "      <td>14766.037037</td>\n",
       "      <td>10170.759516</td>\n",
       "      <td>2972.864320</td>\n",
       "      <td>37.041797</td>\n",
       "      <td>370.481176</td>\n",
       "      <td>9263.968713</td>\n",
       "    </tr>\n",
       "  </tbody>\n",
       "</table>\n",
       "</div>"
      ],
      "text/plain": [
       "Product_Category_1             1             2             3            4  \\\n",
       "Gender                                                                      \n",
       "F                   13597.162619  11407.496819  10262.656677  2454.851882   \n",
       "M                   13608.164721  11203.590520  10026.550081  2273.512694   \n",
       "All                 13606.218596  11251.935384  10096.705734  2329.659491   \n",
       "\n",
       "Product_Category_1            5             6             7            8  \\\n",
       "Gender                                                                     \n",
       "F                   6307.239532  15596.428164  16394.853659  7499.924787   \n",
       "M                   6214.230729  15907.851009  16355.789777  7498.554419   \n",
       "All                 6240.088178  15838.478550  16365.689600  7498.958078   \n",
       "\n",
       "Product_Category_1             9            10           11           12  \\\n",
       "Gender                                                                     \n",
       "F                   15724.314286  19692.076592  4676.371808  1422.909269   \n",
       "M                   15498.888235  19670.731264  4687.425261  1305.154037   \n",
       "All                 15537.375610  19675.570927  4685.268456  1350.859894   \n",
       "\n",
       "Product_Category_1          13            14            15            16  \\\n",
       "Gender                                                                     \n",
       "F                   733.846785  13747.362761  14695.326960  14681.491257   \n",
       "M                   718.306092  12722.321111  14797.431350  14793.384056   \n",
       "All                 722.400613  13141.625739  14780.451828  14766.037037   \n",
       "\n",
       "Product_Category_1            17           18         19          20  \\\n",
       "Gender                                                                 \n",
       "F                    9846.403226  2848.607330  37.676275  371.564315   \n",
       "M                   10209.732558  2990.168793  36.793403  370.052545   \n",
       "All                 10170.759516  2972.864320  37.041797  370.481176   \n",
       "\n",
       "Product_Category_1          All  \n",
       "Gender                           \n",
       "F                   8734.565765  \n",
       "M                   9437.526040  \n",
       "All                 9263.968713  "
      ]
     },
     "execution_count": 16,
     "metadata": {},
     "output_type": "execute_result"
    }
   ],
   "source": [
    "contingency_table"
   ]
  },
  {
   "cell_type": "code",
   "execution_count": 17,
   "metadata": {},
   "outputs": [
    {
     "data": {
      "text/plain": [
       "<matplotlib.axes._subplots.AxesSubplot at 0x1905351e518>"
      ]
     },
     "execution_count": 17,
     "metadata": {},
     "output_type": "execute_result"
    },
    {
     "data": {
      "image/png": "[encoded data removed]",
      "text/plain": [
       "<Figure size 864x576 with 1 Axes>"
      ]
     },
     "metadata": {
      "needs_background": "light"
     },
     "output_type": "display_data"
    }
   ],
   "source": [
    "plt.rcParams['figure.figsize'] = (12, 8)\n",
    "\n",
    "contingency_table.iloc[0:2,0:20].plot(kind='bar', stacked=True)"
   ]
  },
  {
   "cell_type": "code",
   "execution_count": 18,
   "metadata": {},
   "outputs": [],
   "source": [
    "f_obs = np.array([contingency_table.iloc[0][0:20].values,\n",
    "                  contingency_table.iloc[1][0:20].values])"
   ]
  },
  {
   "cell_type": "code",
   "execution_count": 19,
   "metadata": {},
   "outputs": [
    {
     "data": {
      "text/plain": [
       "(69.36935573776768, 1.1705609555221522e-07, 19)"
      ]
     },
     "execution_count": 19,
     "metadata": {},
     "output_type": "execute_result"
    }
   ],
   "source": [
    "from scipy import stats\n",
    "\n",
    "stats.chi2_contingency(f_obs)[0:3]"
   ]
  },
  {
   "cell_type": "markdown",
   "metadata": {},
   "source": [
    "#### Conclusions\n",
    "\n",
    "With a p-value < 0.05 , we can reject the null hypothesis. There is definitely some sort of relationship between 'sex' and the 'Product_Category_1' column. We don't know what this relationship is, but we do know that these two variables are not independent of each other."
   ]
  },
  {
   "cell_type": "code",
   "execution_count": 19,
   "metadata": {},
   "outputs": [],
   "source": [
    "import scipy"
   ]
  },
  {
   "cell_type": "markdown",
   "metadata": {},
   "source": [
    "### Gender Vs Purchase"
   ]
  },
  {
   "cell_type": "code",
   "execution_count": 20,
   "metadata": {},
   "outputs": [],
   "source": [
    "data1 = df_train[df_train['Gender'] == 'M']"
   ]
  },
  {
   "cell_type": "code",
   "execution_count": 21,
   "metadata": {},
   "outputs": [],
   "source": [
    "data2 = df_train[df_train['Gender'] == 'F']"
   ]
  },
  {
   "cell_type": "code",
   "execution_count": 22,
   "metadata": {},
   "outputs": [],
   "source": [
    "twosample_results = scipy.stats.ttest_ind(data1['Purchase'], data2['Purchase'])"
   ]
  },
  {
   "cell_type": "code",
   "execution_count": 23,
   "metadata": {},
   "outputs": [
    {
     "data": {
      "text/plain": [
       "Ttest_indResult(statistic=44.837957934353966, pvalue=0.0)"
      ]
     },
     "execution_count": 23,
     "metadata": {},
     "output_type": "execute_result"
    }
   ],
   "source": [
    "twosample_results"
   ]
  },
  {
   "cell_type": "markdown",
   "metadata": {},
   "source": [
    "Gender has a significance on Purchase"
   ]
  },
  {
   "cell_type": "markdown",
   "metadata": {},
   "source": [
    "####  Marital Status Vs Purchase"
   ]
  },
  {
   "cell_type": "code",
   "execution_count": 24,
   "metadata": {},
   "outputs": [],
   "source": [
    "data1 = df_train[df_train['Marital_Status'] == 0]"
   ]
  },
  {
   "cell_type": "code",
   "execution_count": 25,
   "metadata": {},
   "outputs": [],
   "source": [
    "data2 = df_train[df_train['Marital_Status'] == 1]"
   ]
  },
  {
   "cell_type": "code",
   "execution_count": 26,
   "metadata": {},
   "outputs": [],
   "source": [
    "twosample_results = scipy.stats.ttest_ind(data1['Purchase'], data2['Purchase'])"
   ]
  },
  {
   "cell_type": "code",
   "execution_count": 27,
   "metadata": {},
   "outputs": [
    {
     "data": {
      "text/plain": [
       "Ttest_indResult(statistic=0.3436698055440526, pvalue=0.7310947525758316)"
      ]
     },
     "execution_count": 27,
     "metadata": {},
     "output_type": "execute_result"
    }
   ],
   "source": [
    "twosample_results"
   ]
  },
  {
   "cell_type": "markdown",
   "metadata": {},
   "source": [
    "Marital_Status has no a significance on Purchase"
   ]
  },
  {
   "cell_type": "code",
   "execution_count": 28,
   "metadata": {},
   "outputs": [],
   "source": [
    "import scipy.stats as stats\n",
    "import statsmodels.api as sm\n",
    "from statsmodels.formula.api import ols"
   ]
  },
  {
   "cell_type": "markdown",
   "metadata": {},
   "source": [
    "#### Stay_In_Current_City_Years (vs) Purchase"
   ]
  },
  {
   "cell_type": "code",
   "execution_count": 29,
   "metadata": {},
   "outputs": [
    {
     "data": {
      "text/plain": [
       "F_onewayResult(statistic=4.501016338101479, pvalue=0.003666206671660853)"
      ]
     },
     "execution_count": 29,
     "metadata": {},
     "output_type": "execute_result"
    }
   ],
   "source": [
    "stats.f_oneway(df_train['Purchase'][df_train['Stay_In_Current_City_Years'] == '1'], \n",
    "               df_train['Purchase'][df_train['Stay_In_Current_City_Years'] == '2'], \n",
    "               df_train['Purchase'][df_train['Stay_In_Current_City_Years'] == '3'], \n",
    "               df_train['Purchase'][df_train['Stay_In_Current_City_Years'] == '4+'] \n",
    "             )"
   ]
  },
  {
   "cell_type": "code",
   "execution_count": 30,
   "metadata": {},
   "outputs": [],
   "source": [
    "results = ols('Purchase ~ C(Stay_In_Current_City_Years)', data=df_train).fit()"
   ]
  },
  {
   "cell_type": "code",
   "execution_count": 31,
   "metadata": {},
   "outputs": [
    {
     "data": {
      "text/html": [
       "<table class=\"simpletable\">\n",
       "<caption>OLS Regression Results</caption>\n",
       "<tr>\n",
       "  <th>Dep. Variable:</th>        <td>Purchase</td>     <th>  R-squared:         </th>  <td>   0.000</td>  \n",
       "</tr>\n",
       "<tr>\n",
       "  <th>Model:</th>                   <td>OLS</td>       <th>  Adj. R-squared:    </th>  <td>   0.000</td>  \n",
       "</tr>\n",
       "<tr>\n",
       "  <th>Method:</th>             <td>Least Squares</td>  <th>  F-statistic:       </th>  <td>   9.383</td>  \n",
       "</tr>\n",
       "<tr>\n",
       "  <th>Date:</th>             <td>Fri, 23 Aug 2019</td> <th>  Prob (F-statistic):</th>  <td>1.40e-07</td>  \n",
       "</tr>\n",
       "<tr>\n",
       "  <th>Time:</th>                 <td>19:16:12</td>     <th>  Log-Likelihood:    </th> <td>-5.4681e+06</td>\n",
       "</tr>\n",
       "<tr>\n",
       "  <th>No. Observations:</th>      <td>550068</td>      <th>  AIC:               </th>  <td>1.094e+07</td> \n",
       "</tr>\n",
       "<tr>\n",
       "  <th>Df Residuals:</th>          <td>550063</td>      <th>  BIC:               </th>  <td>1.094e+07</td> \n",
       "</tr>\n",
       "<tr>\n",
       "  <th>Df Model:</th>              <td>     4</td>      <th>                     </th>      <td> </td>     \n",
       "</tr>\n",
       "<tr>\n",
       "  <th>Covariance Type:</th>      <td>nonrobust</td>    <th>                     </th>      <td> </td>     \n",
       "</tr>\n",
       "</table>\n",
       "<table class=\"simpletable\">\n",
       "<tr>\n",
       "                   <td></td>                      <th>coef</th>     <th>std err</th>      <th>t</th>      <th>P>|t|</th>  <th>[0.025</th>    <th>0.975]</th>  \n",
       "</tr>\n",
       "<tr>\n",
       "  <th>Intercept</th>                           <td> 9180.0751</td> <td>   18.415</td> <td>  498.507</td> <td> 0.000</td> <td> 9143.982</td> <td> 9216.168</td>\n",
       "</tr>\n",
       "<tr>\n",
       "  <th>C(Stay_In_Current_City_Years)[T.1]</th>  <td>   70.0708</td> <td>   21.663</td> <td>    3.235</td> <td> 0.001</td> <td>   27.612</td> <td>  112.530</td>\n",
       "</tr>\n",
       "<tr>\n",
       "  <th>C(Stay_In_Current_City_Years)[T.2]</th>  <td>  140.3547</td> <td>   24.225</td> <td>    5.794</td> <td> 0.000</td> <td>   92.874</td> <td>  187.835</td>\n",
       "</tr>\n",
       "<tr>\n",
       "  <th>C(Stay_In_Current_City_Years)[T.3]</th>  <td>  106.8290</td> <td>   24.574</td> <td>    4.347</td> <td> 0.000</td> <td>   58.664</td> <td>  154.994</td>\n",
       "</tr>\n",
       "<tr>\n",
       "  <th>C(Stay_In_Current_City_Years)[T.4+]</th> <td>   95.5237</td> <td>   25.237</td> <td>    3.785</td> <td> 0.000</td> <td>   46.060</td> <td>  144.987</td>\n",
       "</tr>\n",
       "</table>\n",
       "<table class=\"simpletable\">\n",
       "<tr>\n",
       "  <th>Omnibus:</th>       <td>32195.492</td> <th>  Durbin-Watson:     </th> <td>   1.627</td> \n",
       "</tr>\n",
       "<tr>\n",
       "  <th>Prob(Omnibus):</th>  <td> 0.000</td>   <th>  Jarque-Bera (JB):  </th> <td>35632.517</td>\n",
       "</tr>\n",
       "<tr>\n",
       "  <th>Skew:</th>           <td> 0.600</td>   <th>  Prob(JB):          </th> <td>    0.00</td> \n",
       "</tr>\n",
       "<tr>\n",
       "  <th>Kurtosis:</th>       <td> 2.662</td>   <th>  Cond. No.          </th> <td>    7.11</td> \n",
       "</tr>\n",
       "</table><br/><br/>Warnings:<br/>[1] Standard Errors assume that the covariance matrix of the errors is correctly specified."
      ],
      "text/plain": [
       "<class 'statsmodels.iolib.summary.Summary'>\n",
       "\"\"\"\n",
       "                            OLS Regression Results                            \n",
       "==============================================================================\n",
       "Dep. Variable:               Purchase   R-squared:                       0.000\n",
       "Model:                            OLS   Adj. R-squared:                  0.000\n",
       "Method:                 Least Squares   F-statistic:                     9.383\n",
       "Date:                Fri, 23 Aug 2019   Prob (F-statistic):           1.40e-07\n",
       "Time:                        19:16:12   Log-Likelihood:            -5.4681e+06\n",
       "No. Observations:              550068   AIC:                         1.094e+07\n",
       "Df Residuals:                  550063   BIC:                         1.094e+07\n",
       "Df Model:                           4                                         \n",
       "Covariance Type:            nonrobust                                         \n",
       "=======================================================================================================\n",
       "                                          coef    std err          t      P>|t|      [0.025      0.975]\n",
       "-------------------------------------------------------------------------------------------------------\n",
       "Intercept                            9180.0751     18.415    498.507      0.000    9143.982    9216.168\n",
       "C(Stay_In_Current_City_Years)[T.1]     70.0708     21.663      3.235      0.001      27.612     112.530\n",
       "C(Stay_In_Current_City_Years)[T.2]    140.3547     24.225      5.794      0.000      92.874     187.835\n",
       "C(Stay_In_Current_City_Years)[T.3]    106.8290     24.574      4.347      0.000      58.664     154.994\n",
       "C(Stay_In_Current_City_Years)[T.4+]    95.5237     25.237      3.785      0.000      46.060     144.987\n",
       "==============================================================================\n",
       "Omnibus:                    32195.492   Durbin-Watson:                   1.627\n",
       "Prob(Omnibus):                  0.000   Jarque-Bera (JB):            35632.517\n",
       "Skew:                           0.600   Prob(JB):                         0.00\n",
       "Kurtosis:                       2.662   Cond. No.                         7.11\n",
       "==============================================================================\n",
       "\n",
       "Warnings:\n",
       "[1] Standard Errors assume that the covariance matrix of the errors is correctly specified.\n",
       "\"\"\""
      ]
     },
     "execution_count": 31,
     "metadata": {},
     "output_type": "execute_result"
    }
   ],
   "source": [
    "results.summary()"
   ]
  },
  {
   "cell_type": "code",
   "execution_count": 32,
   "metadata": {},
   "outputs": [
    {
     "data": {
      "text/plain": [
       "LeveneResult(statistic=3.2281622601740763, pvalue=0.0214484626907273)"
      ]
     },
     "execution_count": 32,
     "metadata": {},
     "output_type": "execute_result"
    }
   ],
   "source": [
    "stats.levene(df_train['Purchase'][df_train['Stay_In_Current_City_Years'] == '1'], \n",
    "            df_train['Purchase'][df_train['Stay_In_Current_City_Years'] == '2'], \n",
    "            df_train['Purchase'][df_train['Stay_In_Current_City_Years'] == '3'], \n",
    "            df_train['Purchase'][df_train['Stay_In_Current_City_Years'] == '4+'])"
   ]
  },
  {
   "cell_type": "markdown",
   "metadata": {},
   "source": [
    "There is no equal variance between the groups"
   ]
  },
  {
   "cell_type": "code",
   "execution_count": 34,
   "metadata": {},
   "outputs": [],
   "source": [
    "from statsmodels.stats.multicomp import pairwise_tukeyhsd\n",
    "from statsmodels.stats.multicomp import MultiComparison\n",
    "\n",
    "mc = MultiComparison(df_train['Purchase'], df_train['Stay_In_Current_City_Years'])\n",
    "mc_results = mc.tukeyhsd()"
   ]
  },
  {
   "cell_type": "code",
   "execution_count": 36,
   "metadata": {},
   "outputs": [
    {
     "name": "stdout",
     "output_type": "stream",
     "text": [
      "  Multiple Comparison of Means - Tukey HSD, FWER=0.05  \n",
      "=======================================================\n",
      "group1 group2 meandiff p-adj    lower    upper   reject\n",
      "-------------------------------------------------------\n",
      "     0      1  70.0708 0.0107   10.9792 129.1624   True\n",
      "     0      2 140.3547  0.001   74.2742 206.4352   True\n",
      "     0      3  106.829  0.001   39.7961 173.8619   True\n",
      "     0     4+  95.5237 0.0014   26.6838 164.3637   True\n",
      "     1      2  70.2839 0.0028   17.2563 123.3115   True\n",
      "     1      3  36.7582 0.3453  -17.4516   90.968  False\n",
      "     1     4+  25.4529 0.7071   -30.976  81.8819  False\n",
      "     2      3 -33.5257 0.5649  -95.2794   28.228  False\n",
      "     2     4+ -44.8309 0.3069 -108.5416  18.8798  False\n",
      "     3     4+ -11.3052    0.9  -76.0032  53.3927  False\n",
      "-------------------------------------------------------\n"
     ]
    }
   ],
   "source": [
    "print(mc_results)"
   ]
  },
  {
   "cell_type": "code",
   "execution_count": 38,
   "metadata": {},
   "outputs": [
    {
     "data": {
      "text/plain": [
       "Ttest_indResult(statistic=-3.607913133473746, pvalue=0.0003087206569773086)"
      ]
     },
     "execution_count": 38,
     "metadata": {},
     "output_type": "execute_result"
    }
   ],
   "source": [
    "stats.ttest_ind(df_train['Purchase'][df_train['Stay_In_Current_City_Years'] == '1'], df_train['Purchase'][df_train['Stay_In_Current_City_Years'] == '2'])"
   ]
  },
  {
   "cell_type": "code",
   "execution_count": 39,
   "metadata": {},
   "outputs": [
    {
     "data": {
      "text/plain": [
       "Ttest_indResult(statistic=-1.8488057263725304, pvalue=0.06448689049223695)"
      ]
     },
     "execution_count": 39,
     "metadata": {},
     "output_type": "execute_result"
    }
   ],
   "source": [
    "stats.ttest_ind(df_train['Purchase'][df_train['Stay_In_Current_City_Years'] == '1'], df_train['Purchase'][df_train['Stay_In_Current_City_Years'] == '3'])"
   ]
  },
  {
   "cell_type": "code",
   "execution_count": null,
   "metadata": {},
   "outputs": [],
   "source": []
  }
 ],
 "metadata": {
  "kernelspec": {
   "display_name": "Python 3",
   "language": "python",
   "name": "python3"
  },
  "language_info": {
   "codemirror_mode": {
    "name": "ipython",
    "version": 3
   },
   "file_extension": ".py",
   "mimetype": "text/x-python",
   "name": "python",
   "nbconvert_exporter": "python",
   "pygments_lexer": "ipython3",
   "version": "3.7.3"
  }
 },
 "nbformat": 4,
 "nbformat_minor": 2
}
